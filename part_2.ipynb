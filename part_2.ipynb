{
 "cells": [
  {
   "cell_type": "markdown",
   "metadata": {},
   "source": [
    "# Building an OCR from scratch\n",
    "\n",
    "So in this tutorial, I will give you a basic code walkthrough for building a simple OCR. OCR as might know stands for optical character recognition or in layman terms it means text recognition. Text recognition is one of the classic problems in computer vision and is still relevant today. One of the most important applications of text recognition is the digitization of old manuscripts. Physical copies of books and manuscripts are prone to degradations. With time, the printed characters start to fade. On simple way to preserve such documents is to make a digital copy of it and store it in the cloud or local hard drive which would ensure their continuance. Similarly, text recognition can also be used for licence plate recognition and can also be used in forensics in terms of handwriting recognition. \n",
    "\n",
    "Okay, now that I have given you enough motivation as to why OCR is important, let me show you how you can build one. \n",
    "So first things first, I'll start with listing down some of the essential packages that you would need to build your first OCR. We will be working with PyTorch as it is one of the most efficient deep learning libraries present. The other packages are as follows:\n",
    "\n",
    "* Pytorch 1.5\n",
    "* Matplotlib\n",
    "* Tqdm\n",
    "* textdistance\n",
    "* lmdb\n",
    "\n",
    "You can install them either via a pip or conda. I will also be providing a requirements.txt file which you can find in my Github repo. Do a simple `pip install -r requirements` and you are set to go.\n",
    "\n",
    "## Setting up the Data\n",
    "\n",
    "We will start our project by importing the libraries. But before that we need data. Now, you are free to use any text image data you might like and for that, you might need to build your own data loader. However, in the interest of keeping things simple, we will be using a neat little package called `trdg`, which is a synthetic image generator for OCR. You can find all the relevant information regarding this package on its [github repository](https://github.com/Belval/TextRecognitionDataGenerator). You can generate printed as well as hand-written text images and infuse them with different kinds of noise and degradation. In this project, I have used trdg to generate printed word images of a single font. You can use any font you like. Just download a `.ttf` file for your font and while generating the word images be sure to specify the `-ft` parameter as your font file. \n",
    "\n",
    "You can generate the word images for training using the following commands:\n",
    "\n",
    "`trdg -i words.txt -c 20000 --output_dir data/train -ft your/fontfile`\n",
    "\n",
    "Here, `-c` refers to the number of word images you want to generate. `words.txt` file contains our input word vocabulary while `--output_dir` and `-ft` refer to the output and font file respectively. You can similarly generate the test word images for evaluating the performance of your OCR. However, ensure that words for training and testing are mutually exclusive to each other.\n"
   ]
  },
  {
   "cell_type": "markdown",
   "metadata": {},
   "source": [
    "Okay, now that we have generated the word images, let us display a few images using matlplotlib\n",
    "%# TODO diplay images from folder"
   ]
  },
  {
   "cell_type": "markdown",
   "metadata": {},
   "source": [
    "Now lets start importing the libraries that we would need to build our OCR"
   ]
  },
  {
   "cell_type": "code",
   "execution_count": 1,
   "metadata": {},
   "outputs": [],
   "source": [
    "import os\n",
    "import sys\n",
    "import pdb\n",
    "import six\n",
    "import random\n",
    "import lmdb\n",
    "from PIL import Image\n",
    "import numpy as np\n",
    "import math\n",
    "from collections import OrderedDict\n",
    "from itertools import chain\n",
    "import logging\n",
    "import xml.etree.ElementTree as ET\n",
    "\n",
    "\n",
    "import torch\n",
    "import torch.nn as nn\n",
    "import torch.nn.functional as F\n",
    "from torch.utils.data import Dataset\n",
    "from torch.utils.data import sampler\n",
    "import torchvision.transforms as transforms\n",
    "from torch.optim.lr_scheduler import CosineAnnealingLR, StepLR\n",
    "from torch.nn.utils.clip_grad import clip_grad_norm_\n",
    "from torch.utils.data import random_split\n",
    "sys.path.insert(0, '../')\n",
    "from src.utils.utils import AverageMeter, Eval, OCRLabelConverter\n",
    "from src.utils.utils import EarlyStopping, gmkdir\n",
    "from src.optim.optimizer import STLR\n",
    "from src.utils.utils import gaussian\n",
    "from tqdm import *\n"
   ]
  },
  {
   "cell_type": "markdown",
   "metadata": {},
   "source": [
    "Next, let us create our data pipe-line. We do this by inheriting the PyTorch Dataset class. The Dataset class has few methods that we need to adhere to like the `__len__` and `__getitem__` method. The `__len__` method returns the number of items in our dataset while `__getitem_` returns the data item for the index passed. You can find more information on PyTorch Dataset class on PyTorch's official documentation page. \n",
    "\n",
    "You will observe that we first convert each image into grayscale and convert it into a tensor. This is followed by normalizing the images so that our input data lies within a range of [-1, 1]. We pass all such transformations into a list and later call the transforms to compose function provided by PyTorch. The transform Compose function applies each transformation in the pre-defined order."
   ]
  },
  {
   "cell_type": "code",
   "execution_count": 2,
   "metadata": {},
   "outputs": [],
   "source": [
    "class PlateDataset(Dataset):\n",
    "    def __init__(self, opt):\n",
    "        super(PlateDataset, self).__init__()\n",
    "        self.path = os.path.join(opt['path'], opt['imgdir'])\n",
    "        self.annotations_path = os.path.join(opt['path'], 'annotations') \n",
    "        self.images = os.listdir(self.path)\n",
    "        self.nSamples = len(self.images)\n",
    "        f = lambda x: os.path.join(self.path, x)\n",
    "        self.imagepaths = list(map(f, self.images))\n",
    "        transform_list =  [transforms.Grayscale(1),\n",
    "                            transforms.ToTensor(), \n",
    "                            transforms.Normalize((0.5,), (0.5,))]\n",
    "        self.transform = transforms.Compose(transform_list)\n",
    "        self.collate_fn = SynthCollator()\n",
    "\n",
    "\n",
    "    def __len__(self):\n",
    "        return self.nSamples\n",
    "\n",
    "    def __getitem__(self, index):\n",
    "        assert index <= len(self), 'index range error'\n",
    "        imagepath = self.imagepaths[index]\n",
    "        imagefile = os.path.basename(imagepath)\n",
    "        img = Image.open(imagepath)\n",
    "        \n",
    "        if self.transform is not None:\n",
    "            img = self.transform(img)\n",
    "            \n",
    "        annotation_file = os.path.join(self.annotations_path, imagefile.replace('.png', '.xml'))\n",
    "        \n",
    "        tree = ET.parse(annotation_file)\n",
    "        root = tree.getroot()\n",
    "        labels = []\n",
    "\n",
    "        for obj in root.findall('object'):\n",
    "            name = obj.find('name').text\n",
    "            labels.append(name)\n",
    "\n",
    "        label = ''.join(labels)\n",
    "\n",
    "        item = {'img': img, 'idx': index, 'label': label}\n",
    "        return item\n"
   ]
  },
  {
   "cell_type": "markdown",
   "metadata": {},
   "source": [
    "Next, since we are going to train our model using the mini-batch gradient descent, it is essential that each image in the batch is of the same shape and size. For this, we have defined the `SynthCollator` class which initially finds the image with maximum width in the batch and then proceeds to pad all images to have the same width. "
   ]
  },
  {
   "cell_type": "code",
   "execution_count": 3,
   "metadata": {},
   "outputs": [],
   "source": [
    "class SynthCollator(object):\n",
    "    \n",
    "     def __call__(self, batch):\n",
    "        width = [item['img'].shape[2] for item in batch]\n",
    "        indexes = [item['idx'] for item in batch]\n",
    "        imgs = torch.ones([len(batch), batch[0]['img'].shape[0], batch[0]['img'].shape[1], \n",
    "                           max(width)], dtype=torch.float32)\n",
    "        for idx, item in enumerate(batch):\n",
    "            try:\n",
    "                imgs[idx, :, :, 0:item['img'].shape[2]] = item['img']\n",
    "            except:\n",
    "                print(imgs.shape)\n",
    "        item = {'img': imgs, 'idx':indexes}\n",
    "        if 'label' in batch[0].keys():\n",
    "            labels = [item['label'] for item in batch]\n",
    "            item['label'] = labels\n",
    "        return item"
   ]
  },
  {
   "cell_type": "markdown",
   "metadata": {},
   "source": [
    "## Defining our Model\n",
    "\n",
    "Now we proceed to define our model. We use the CNN-LSTM based architecture which was proposed by Shi et.al. in their excellent paper [An End-to-End Trainable Neural Network for Image-based Sequence Recognition and Its Application to Scene Text Recognition](https://arxiv.org/pdf/1507.05717.pdf). The authors used it for scene-text recognition and showed via extensive experimentation that they were able to achieve significant gains in accuracy compared to all other existing methods at that time.\n",
    "\n",
    "\n",
    "<img src=\"images/crnn.png\" alt=\"drawing\" width=\"400\"/>\n",
    "\n",
    "The figure above shows the architecture used in the paper. The authors used a 7 layered Convolution network with BatchNorm and ReLU. This was followed by a stacked RNN network consisting of two Bidirectional LSTM layers. The convolution layers acted as a feature extractor while the LSTMs layers act as sequence classifiers. The LSTM layers output the probability associated with each output class at each time step\n",
    "Further details can be found in their paper and I strongly suggest you go through it for a better understanding.\n",
    "\n",
    "The below code snippet is taken from this [github repository](https://github.com/meijieru/crnn.pytorch) which provides a Pytorch implementation of their code.\n"
   ]
  },
  {
   "cell_type": "code",
   "execution_count": 4,
   "metadata": {},
   "outputs": [],
   "source": [
    "class BidirectionalLSTM(nn.Module):\n",
    "\n",
    "    def __init__(self, nIn, nHidden, nOut):\n",
    "        super(BidirectionalLSTM, self).__init__()\n",
    "        self.rnn = nn.LSTM(nIn, nHidden, bidirectional=True)\n",
    "        self.embedding = nn.Linear(nHidden * 2, nOut)\n",
    "    def forward(self, input):\n",
    "        self.rnn.flatten_parameters()\n",
    "        recurrent, _ = self.rnn(input)\n",
    "        T, b, h = recurrent.size()\n",
    "        t_rec = recurrent.view(T * b, h)\n",
    "        output = self.embedding(t_rec)  # [T * b, nOut]\n",
    "        output = output.view(T, b, -1)\n",
    "        return output\n",
    "\n",
    "class CRNN(nn.Module):\n",
    "\n",
    "    def __init__(self, opt, leakyRelu=False):\n",
    "        super(CRNN, self).__init__()\n",
    "\n",
    "        assert opt['imgH'] % 16 == 0, 'imgH has to be a multiple of 16'\n",
    "\n",
    "        ks = [3, 3, 3, 3, 3, 3, 2]\n",
    "        ps = [1, 1, 1, 1, 1, 1, 0]\n",
    "        ss = [1, 1, 1, 1, 1, 1, 1]\n",
    "        nm = [64, 128, 256, 256, 512, 512, 512]\n",
    "\n",
    "        cnn = nn.Sequential()\n",
    "\n",
    "        def convRelu(i, batchNormalization=False):\n",
    "            nIn = opt['nChannels'] if i == 0 else nm[i - 1]\n",
    "            nOut = nm[i]\n",
    "            cnn.add_module('conv{0}'.format(i),\n",
    "                           nn.Conv2d(nIn, nOut, ks[i], ss[i], ps[i]))\n",
    "            if batchNormalization:\n",
    "                cnn.add_module('batchnorm{0}'.format(i), nn.BatchNorm2d(nOut))\n",
    "            if leakyRelu:\n",
    "                cnn.add_module('relu{0}'.format(i),\n",
    "                               nn.LeakyReLU(0.2, inplace=True))\n",
    "            else:\n",
    "                cnn.add_module('relu{0}'.format(i), nn.ReLU(True))\n",
    "\n",
    "        convRelu(0)\n",
    "        cnn.add_module('pooling{0}'.format(0), nn.MaxPool2d(2, 2))  # 64x16x64\n",
    "        convRelu(1)\n",
    "        cnn.add_module('pooling{0}'.format(1), nn.MaxPool2d(2, 2))  # 128x8x32\n",
    "        convRelu(2, True)\n",
    "        convRelu(3)\n",
    "        cnn.add_module('pooling{0}'.format(2),\n",
    "                       nn.MaxPool2d((2, 2), (2, 1), (0, 1)))  # 256x4x16\n",
    "        convRelu(4, True)\n",
    "        convRelu(5)\n",
    "        cnn.add_module('pooling{0}'.format(3),\n",
    "                       nn.MaxPool2d((2, 2), (2, 1), (0, 1)))  # 512x2x16\n",
    "        convRelu(6, True)  # 512x1x16\n",
    "        self.cnn = cnn\n",
    "        self.rnn = nn.Sequential()\n",
    "        self.rnn = nn.Sequential(\n",
    "            BidirectionalLSTM(opt['nHidden']*2, opt['nHidden'], opt['nHidden']),\n",
    "            BidirectionalLSTM(opt['nHidden'], opt['nHidden'], opt['nClasses']))\n",
    "\n",
    "\n",
    "    def forward(self, input):\n",
    "        # conv features\n",
    "        conv = self.cnn(input)\n",
    "        b, c, h, w = conv.size()\n",
    "        assert h == 1, \"the height of conv must be 1\"\n",
    "        conv = conv.squeeze(2)\n",
    "        conv = conv.permute(2, 0, 1)  # [w, b, c]\n",
    "        # rnn features\n",
    "        output = self.rnn(conv)\n",
    "        output = output.transpose(1,0) #Tbh to bth\n",
    "        return output"
   ]
  },
  {
   "cell_type": "code",
   "execution_count": 5,
   "metadata": {},
   "outputs": [],
   "source": [
    "class CustomCTCLoss(torch.nn.Module):\n",
    "    # T x B x H => Softmax on dimension 2\n",
    "    def __init__(self, dim=2):\n",
    "        super().__init__()\n",
    "        self.dim = dim\n",
    "        self.ctc_loss = torch.nn.CTCLoss(reduction='mean', zero_infinity=True)\n",
    "\n",
    "    def forward(self, logits, labels,\n",
    "            prediction_sizes, target_sizes):\n",
    "        EPS = 1e-7\n",
    "        loss = self.ctc_loss(logits, labels, prediction_sizes, target_sizes)\n",
    "        loss = self.sanitize(loss)\n",
    "        return self.debug(loss, logits, labels, prediction_sizes, target_sizes)\n",
    "    \n",
    "    def sanitize(self, loss):\n",
    "        EPS = 1e-7\n",
    "        if abs(loss.item() - float('inf')) < EPS:\n",
    "            return torch.zeros_like(loss)\n",
    "        if math.isnan(loss.item()):\n",
    "            return torch.zeros_like(loss)\n",
    "        return loss\n",
    "\n",
    "    def debug(self, loss, logits, labels,\n",
    "            prediction_sizes, target_sizes):\n",
    "        if math.isnan(loss.item()):\n",
    "            print(\"Loss:\", loss)\n",
    "            print(\"logits:\", logits)\n",
    "            print(\"labels:\", labels)\n",
    "            print(\"prediction_sizes:\", prediction_sizes)\n",
    "            print(\"target_sizes:\", target_sizes)\n",
    "            raise Exception(\"NaN loss obtained. But why?\")\n",
    "        return loss"
   ]
  },
  {
   "cell_type": "markdown",
   "metadata": {},
   "source": [
    "## The Training Loop\n",
    "\n",
    "The above code snippet builds a wrapper around pytorch's CTC loss function. Basically, what it does is that it computes the loss and passes it through an additional method called `debug`, which checks for instances when the loss becomes Nan. \n",
    "\n",
    "Shout out to [Jerin Philip](https://jerinphilip.github.io/) for this code.\n",
    "\n",
    "Now, let us come to the training loop. The below code might look a bit cumbersome but it provides a nice abstraction which is quite intuitive and easy to use. The below code is based on [pytorch lighning](https://github.com/PyTorchLightning/pytorch-lightning)'s bolier plate template with few modifications of my own. :P\n",
    "\n",
    "I will give a basic overview of what it does. Feel free to inspect each method using python debugger. So, the `OCRTrainer` class takes in the training and validation data. It also takes in the loss function, optimizer and the number of epoch it needs to train the model. The train and validation loader method returns the data loader for the train and validation data. the `run_batch` method does one forward pass for a batch of image-label pairs. It returns the loss as well as the character and word accuracy. Next, we have the step functions which does the backpropagation, calculates the gradient and updates the parameters for each batch of data. Besides we also have the `training_end` and `validation_end` methods that calculate the mean loss and accuracy for each batch after the completion of one single epoch\n",
    "\n",
    "All, the methods defined are quite simple and I hope you will get the hang of it in no time."
   ]
  },
  {
   "cell_type": "code",
   "execution_count": 6,
   "metadata": {},
   "outputs": [],
   "source": [
    "class OCRTrainer(object):\n",
    "    def __init__(self, opt):\n",
    "        super(OCRTrainer, self).__init__()\n",
    "        self.data_train = opt['data_train']\n",
    "        self.data_val = opt['data_val']\n",
    "        self.model = opt['model']\n",
    "        self.criterion = opt['criterion']\n",
    "        self.optimizer = opt['optimizer']\n",
    "        self.schedule = opt['schedule']\n",
    "        self.converter = OCRLabelConverter(opt['alphabet'])\n",
    "        self.evaluator = Eval()\n",
    "        print('Scheduling is {}'.format(self.schedule))\n",
    "        self.scheduler = CosineAnnealingLR(self.optimizer, T_max=opt['epochs'])\n",
    "        self.batch_size = opt['batch_size']\n",
    "        self.count = opt['epoch']\n",
    "        self.epochs = opt['epochs']\n",
    "        self.cuda = opt['cuda']\n",
    "        self.collate_fn = opt['collate_fn']\n",
    "        self.init_meters()\n",
    "\n",
    "    def init_meters(self):\n",
    "        self.avgTrainLoss = AverageMeter(\"Train loss\")\n",
    "        self.avgTrainCharAccuracy = AverageMeter(\"Train Character Accuracy\")\n",
    "        self.avgTrainWordAccuracy = AverageMeter(\"Train Word Accuracy\")\n",
    "        self.avgValLoss = AverageMeter(\"Validation loss\")\n",
    "        self.avgValCharAccuracy = AverageMeter(\"Validation Character Accuracy\")\n",
    "        self.avgValWordAccuracy = AverageMeter(\"Validation Word Accuracy\")\n",
    "\n",
    "    def forward(self, x):\n",
    "        logits = self.model(x)\n",
    "        return logits.transpose(1, 0)\n",
    "\n",
    "    def loss_fn(self, logits, targets, pred_sizes, target_sizes):\n",
    "        loss = self.criterion(logits, targets, pred_sizes, target_sizes)\n",
    "        return loss\n",
    "\n",
    "    def step(self):\n",
    "        self.max_grad_norm = 0.05\n",
    "        clip_grad_norm_(self.model.parameters(), self.max_grad_norm)\n",
    "        self.optimizer.step()\n",
    "    \n",
    "    def schedule_lr(self):\n",
    "        if self.schedule:\n",
    "            self.scheduler.step()\n",
    "\n",
    "    def _run_batch(self, batch, report_accuracy=False, validation=False):\n",
    "        input_, targets = batch['img'], batch['label']\n",
    "        targets, lengths = self.converter.encode(targets)\n",
    "        logits = self.forward(input_)\n",
    "        logits = logits.contiguous().cpu()\n",
    "        logits = torch.nn.functional.log_softmax(logits, 2)\n",
    "        T, B, H = logits.size()\n",
    "        pred_sizes = torch.LongTensor([T for i in range(B)])\n",
    "        targets= targets.view(-1).contiguous()\n",
    "        loss = self.loss_fn(logits, targets, pred_sizes, lengths)\n",
    "        if report_accuracy:\n",
    "            probs, preds = logits.max(2)\n",
    "            preds = preds.transpose(1, 0).contiguous().view(-1)\n",
    "            sim_preds = self.converter.decode(preds.data, pred_sizes.data, raw=False)\n",
    "            ca = np.mean((list(map(self.evaluator.char_accuracy, list(zip(sim_preds, batch['label']))))))\n",
    "            wa = np.mean((list(map(self.evaluator.word_accuracy, list(zip(sim_preds, batch['label']))))))\n",
    "        return loss, ca, wa\n",
    "\n",
    "    def run_epoch(self, validation=False):\n",
    "        if not validation:\n",
    "            loader = self.train_dataloader()\n",
    "            pbar = tqdm(loader, desc='Epoch: [%d]/[%d] Training'%(self.count, \n",
    "                self.epochs), leave=True)\n",
    "            self.model.train()\n",
    "        else:\n",
    "            loader = self.val_dataloader()\n",
    "            pbar = tqdm(loader, desc='Validating', leave=True)\n",
    "            self.model.eval()\n",
    "        outputs = []\n",
    "        for batch_nb, batch in enumerate(pbar):\n",
    "            if not validation:\n",
    "                output = self.training_step(batch)\n",
    "            else:\n",
    "                output = self.validation_step(batch)\n",
    "            pbar.set_postfix(output)\n",
    "            outputs.append(output)\n",
    "        self.schedule_lr()\n",
    "        if not validation:\n",
    "            result = self.train_end(outputs)\n",
    "        else:\n",
    "            result = self.validation_end(outputs)\n",
    "        return result\n",
    "\n",
    "    def training_step(self, batch):\n",
    "        loss, ca, wa = self._run_batch(batch, report_accuracy=True)\n",
    "        self.optimizer.zero_grad()\n",
    "        loss.backward()\n",
    "        self.step()\n",
    "        output = OrderedDict({\n",
    "            'loss': abs(loss.item()),\n",
    "            'train_ca': ca.item(),\n",
    "            'train_wa': wa.item()\n",
    "            })\n",
    "        return output\n",
    "\n",
    "    def validation_step(self, batch):\n",
    "        loss, ca, wa = self._run_batch(batch, report_accuracy=True, validation=True)\n",
    "        output = OrderedDict({\n",
    "            'val_loss': abs(loss.item()),\n",
    "            'val_ca': ca.item(),\n",
    "            'val_wa': wa.item()\n",
    "            })\n",
    "        return output\n",
    "\n",
    "    def train_dataloader(self):\n",
    "        # logging.info('training data loader called')\n",
    "        loader = torch.utils.data.DataLoader(self.data_train,\n",
    "                batch_size=self.batch_size,\n",
    "                collate_fn=self.collate_fn,\n",
    "                shuffle=True)\n",
    "        return loader\n",
    "        \n",
    "    def val_dataloader(self):\n",
    "        # logging.info('val data loader called')\n",
    "        loader = torch.utils.data.DataLoader(self.data_val,\n",
    "                batch_size=self.batch_size,\n",
    "                collate_fn=self.collate_fn)\n",
    "        return loader\n",
    "\n",
    "    def train_end(self, outputs):\n",
    "        for output in outputs:\n",
    "            self.avgTrainLoss.add(output['loss'])\n",
    "            self.avgTrainCharAccuracy.add(output['train_ca'])\n",
    "            self.avgTrainWordAccuracy.add(output['train_wa'])\n",
    "\n",
    "        train_loss_mean = abs(self.avgTrainLoss.compute())\n",
    "        train_ca_mean = self.avgTrainCharAccuracy.compute()\n",
    "        train_wa_mean = self.avgTrainWordAccuracy.compute()\n",
    "\n",
    "        result = {'train_loss': train_loss_mean, 'train_ca': train_ca_mean,\n",
    "        'train_wa': train_wa_mean}\n",
    "        # result = {'progress_bar': tqdm_dict, 'log': tqdm_dict, 'val_loss': train_loss_mean}\n",
    "        return result\n",
    "\n",
    "    def validation_end(self, outputs):\n",
    "        for output in outputs:\n",
    "            self.avgValLoss.add(output['val_loss'])\n",
    "            self.avgValCharAccuracy.add(output['val_ca'])\n",
    "            self.avgValWordAccuracy.add(output['val_wa'])\n",
    "\n",
    "        val_loss_mean = abs(self.avgValLoss.compute())\n",
    "        val_ca_mean = self.avgValCharAccuracy.compute()\n",
    "        val_wa_mean = self.avgValWordAccuracy.compute()\n",
    "\n",
    "        result = {'val_loss': val_loss_mean, 'val_ca': val_ca_mean,\n",
    "        'val_wa': val_wa_mean}\n",
    "        return result"
   ]
  },
  {
   "cell_type": "markdown",
   "metadata": {},
   "source": [
    "## Putting Everything Together\n",
    "\n",
    "And, finally, we have the `Learner` class. It implements a couple of more methods like the `save` and `load` model. It also tracks the losses and saves them in a `csv` file. This comes in handy if we want to analyze the behaviour of our training and validation loops. It initializes our `OCRTrainer` module with the necessary hyperparameters and later calls the `fit` method which runs the training loop.\n",
    "\n",
    "Besides these methods, we have a bunch of helper methods like the `OCRLabel_converter`, `Eval` and `Averagemeter`. I am not including them in this notebook, instead, I have written them in utils.py file and I am importing them from there. In case you want to take a peek, feel free to tinker with the utils.py file. All the necessary documentation is provided in the file itself."
   ]
  },
  {
   "cell_type": "code",
   "execution_count": 7,
   "metadata": {},
   "outputs": [
    {
     "name": "stdout",
     "output_type": "stream",
     "text": [
      "env: CUDA_VISIBLE_DEVICES=0\n"
     ]
    }
   ],
   "source": [
    "%env CUDA_VISIBLE_DEVICES=0\n"
   ]
  },
  {
   "cell_type": "code",
   "execution_count": 8,
   "metadata": {},
   "outputs": [],
   "source": [
    "class Learner(object):\n",
    "    def __init__(self, model, optimizer, savepath=None, resume=False):\n",
    "        self.model = model\n",
    "        self.optimizer = optimizer\n",
    "        self.savepath = os.path.join(savepath, 'best.ckpt')\n",
    "        self.cuda = torch.cuda.is_available() \n",
    "        self.cuda_count = torch.cuda.device_count()\n",
    "        if self.cuda:\n",
    "            self.model = self.model.cuda()\n",
    "        self.epoch = 0\n",
    "        if self.cuda_count > 1:\n",
    "            print(\"Let's use\", torch.cuda.device_count(), \"GPUs!\")\n",
    "            self.model = nn.DataParallel(self.model)\n",
    "        self.best_score = None\n",
    "        if resume and os.path.exists(self.savepath):\n",
    "            self.checkpoint = torch.load(self.savepath)\n",
    "            self.epoch = self.checkpoint['epoch']\n",
    "            self.best_score=self.checkpoint['best']\n",
    "            self.load()\n",
    "        else:\n",
    "            print('checkpoint does not exist')\n",
    "\n",
    "    def fit(self, opt):\n",
    "        opt['cuda'] = self.cuda\n",
    "        opt['model'] = self.model\n",
    "        opt['optimizer'] = self.optimizer\n",
    "        logging.basicConfig(filename=\"%s/%s.csv\" %(opt['log_dir'], opt['name']), level=logging.INFO)\n",
    "        self.saver = EarlyStopping(self.savepath, patience=15, verbose=True, best_score=self.best_score)\n",
    "        opt['epoch'] = self.epoch\n",
    "        trainer = OCRTrainer(opt)\n",
    "        \n",
    "        for epoch in range(opt['epoch'], opt['epochs']):\n",
    "            train_result = trainer.run_epoch()\n",
    "            val_result = trainer.run_epoch(validation=True)\n",
    "            trainer.count = epoch\n",
    "            info = '%d, %.6f, %.6f, %.6f, %.6f, %.6f, %.6f'%(epoch, train_result['train_loss'], \n",
    "                val_result['val_loss'], train_result['train_ca'],  val_result['val_ca'],\n",
    "                train_result['train_wa'], val_result['val_wa'])\n",
    "            logging.info(info)\n",
    "            self.val_loss = val_result['val_loss']\n",
    "            print(self.val_loss)\n",
    "            if self.savepath:\n",
    "                self.save(epoch)\n",
    "            if self.saver.early_stop:\n",
    "                print(\"Early stopping\")\n",
    "                break\n",
    "\n",
    "    def load(self):\n",
    "        print('Loading checkpoint at {} trained for {} epochs'.format(self.savepath, self.checkpoint['epoch']))\n",
    "        self.model.load_state_dict(self.checkpoint['state_dict'])\n",
    "        if 'opt_state_dict' in self.checkpoint.keys():\n",
    "            print('Loading optimizer')\n",
    "            self.optimizer.load_state_dict(self.checkpoint['opt_state_dict'])\n",
    "\n",
    "    def save(self, epoch):\n",
    "        self.saver(self.val_loss, epoch, self.model, self.optimizer)"
   ]
  },
  {
   "cell_type": "markdown",
   "metadata": {},
   "source": [
    "### Defining the hyperparameters\n",
    "\n",
    "Okay, now that we have set the premise, its time to unfold the drama. We begin by defining our vocabulary i.e. the alphabets which serve as the output classes for our model.\n",
    "We define a suitable name for this experiment which will also serve as the folder name where the checkpoints and log files will be stored. We also define the hyper-parameters like the batch size, learning rate, image height, number of channels etc.\n",
    "\n",
    "Then we initialize our Dataset class and split the data into train and validation. We then proceed to initialize our Model and CTCLoss and finally call the `learner.fit` function.\n",
    "\n",
    "Once the training is over we can find the saved model in the `checkpoints/name` folder. We may load the model and evaluate its performance on the test data or finetune it on some other data."
   ]
  },
  {
   "cell_type": "code",
   "execution_count": 16,
   "metadata": {},
   "outputs": [
    {
     "name": "stderr",
     "output_type": "stream",
     "text": [
      "\r",
      "Epoch: [0]/[13] Training:   0%|          | 0/12 [00:00<?, ?it/s]"
     ]
    },
    {
     "name": "stdout",
     "output_type": "stream",
     "text": [
      "Traininig Data Size:133\n",
      "Val Data Size:34\n",
      "Let's use 4 GPUs!\n",
      "checkpoint does not exist\n",
      "None\n",
      "Scheduling is False\n"
     ]
    },
    {
     "name": "stderr",
     "output_type": "stream",
     "text": [
      "Epoch: [0]/[13] Training:  92%|█████████▏| 11/12 [00:00<00:00, 11.01it/s, loss=3.42, train_ca=0, train_wa=0]  /home/guserbto@GU.GU.SE/.conda/envs/a1_env/lib/python3.6/site-packages/numpy/core/fromnumeric.py:3373: RuntimeWarning: Mean of empty slice.\n",
      "  out=out, **kwargs)\n",
      "/home/guserbto@GU.GU.SE/.conda/envs/a1_env/lib/python3.6/site-packages/numpy/core/_methods.py:170: RuntimeWarning: invalid value encountered in double_scalars\n",
      "  ret = ret.dtype.type(ret / rcount)\n",
      "Epoch: [0]/[13] Training: 100%|██████████| 12/12 [00:01<00:00, 11.87it/s, loss=3.61, train_ca=nan, train_wa=nan]\n",
      "Validating: 100%|██████████| 3/3 [00:00<00:00, 27.94it/s, val_loss=3.34, val_ca=0, val_wa=0]\n"
     ]
    },
    {
     "name": "stdout",
     "output_type": "stream",
     "text": [
      "3.3801631927490234\n",
      "Validation loss decreased (inf --> 3.380163).  Saving model ...\n"
     ]
    },
    {
     "name": "stderr",
     "output_type": "stream",
     "text": [
      "Epoch: [0]/[13] Training: 100%|██████████| 12/12 [00:00<00:00, 16.90it/s, loss=3.32, train_ca=nan, train_wa=nan]\n",
      "Validating: 100%|██████████| 3/3 [00:00<00:00, 28.58it/s, val_loss=3.64, val_ca=0, val_wa=0]\n",
      "Epoch: [1]/[13] Training:  17%|█▋        | 2/12 [00:00<00:00, 16.32it/s, loss=3.64, train_ca=0, train_wa=0]"
     ]
    },
    {
     "name": "stdout",
     "output_type": "stream",
     "text": [
      "3.5186916987101235\n",
      "EarlyStopping counter: (-3.380163 1 out of 15)\n"
     ]
    },
    {
     "name": "stderr",
     "output_type": "stream",
     "text": [
      "Epoch: [1]/[13] Training: 100%|██████████| 12/12 [00:00<00:00, 17.32it/s, loss=4.32, train_ca=nan, train_wa=nan]\n",
      "Validating: 100%|██████████| 3/3 [00:00<00:00, 28.16it/s, val_loss=3.32, val_ca=0, val_wa=0]\n",
      "Epoch: [2]/[13] Training:  17%|█▋        | 2/12 [00:00<00:00, 16.40it/s, loss=3.46, train_ca=0, train_wa=0]"
     ]
    },
    {
     "name": "stdout",
     "output_type": "stream",
     "text": [
      "3.469210041893853\n",
      "EarlyStopping counter: (-3.380163 2 out of 15)\n"
     ]
    },
    {
     "name": "stderr",
     "output_type": "stream",
     "text": [
      "Epoch: [2]/[13] Training: 100%|██████████| 12/12 [00:00<00:00, 17.34it/s, loss=3.56, train_ca=nan, train_wa=nan]\n",
      "Validating: 100%|██████████| 3/3 [00:00<00:00, 27.78it/s, val_loss=3.19, val_ca=0, val_wa=0]\n",
      "Epoch: [3]/[13] Training:  17%|█▋        | 2/12 [00:00<00:00, 15.28it/s, loss=3.26, train_ca=0, train_wa=0]"
     ]
    },
    {
     "name": "stdout",
     "output_type": "stream",
     "text": [
      "3.40704075495402\n",
      "EarlyStopping counter: (-3.380163 3 out of 15)\n"
     ]
    },
    {
     "name": "stderr",
     "output_type": "stream",
     "text": [
      "Epoch: [3]/[13] Training: 100%|██████████| 12/12 [00:00<00:00, 17.14it/s, loss=3.06, train_ca=nan, train_wa=nan]\n",
      "Validating: 100%|██████████| 3/3 [00:00<00:00, 27.88it/s, val_loss=3.15, val_ca=0, val_wa=0]\n"
     ]
    },
    {
     "name": "stdout",
     "output_type": "stream",
     "text": [
      "3.3548269112904867\n",
      "Validation loss decreased (3.380163 --> 3.354827).  Saving model ...\n"
     ]
    },
    {
     "name": "stderr",
     "output_type": "stream",
     "text": [
      "Epoch: [4]/[13] Training: 100%|██████████| 12/12 [00:00<00:00, 17.01it/s, loss=2.95, train_ca=10, train_wa=0]  \n",
      "Validating: 100%|██████████| 3/3 [00:00<00:00, 23.69it/s, val_loss=3.06, val_ca=6.22, val_wa=0]\n"
     ]
    },
    {
     "name": "stdout",
     "output_type": "stream",
     "text": [
      "3.3065732187694974\n",
      "Validation loss decreased (3.354827 --> 3.306573).  Saving model ...\n"
     ]
    },
    {
     "name": "stderr",
     "output_type": "stream",
     "text": [
      "Epoch: [5]/[13] Training: 100%|██████████| 12/12 [00:00<00:00, 16.84it/s, loss=3.33, train_ca=0, train_wa=0]   \n",
      "Validating: 100%|██████████| 3/3 [00:00<00:00, 27.79it/s, val_loss=3.05, val_ca=6.22, val_wa=0]\n"
     ]
    },
    {
     "name": "stdout",
     "output_type": "stream",
     "text": [
      "3.2649628207797097\n",
      "Validation loss decreased (3.306573 --> 3.264963).  Saving model ...\n"
     ]
    },
    {
     "name": "stderr",
     "output_type": "stream",
     "text": [
      "Epoch: [6]/[13] Training: 100%|██████████| 12/12 [00:00<00:00, 17.10it/s, loss=2.78, train_ca=0, train_wa=0]   \n",
      "Validating: 100%|██████████| 3/3 [00:00<00:00, 28.08it/s, val_loss=3.02, val_ca=6.22, val_wa=0]\n"
     ]
    },
    {
     "name": "stdout",
     "output_type": "stream",
     "text": [
      "3.226125786701838\n",
      "Validation loss decreased (3.264963 --> 3.226126).  Saving model ...\n"
     ]
    },
    {
     "name": "stderr",
     "output_type": "stream",
     "text": [
      "Epoch: [7]/[13] Training: 100%|██████████| 12/12 [00:00<00:00, 17.09it/s, loss=4.13, train_ca=0, train_wa=0]  \n",
      "Validating: 100%|██████████| 3/3 [00:00<00:00, 26.27it/s, val_loss=2.91, val_ca=6.22, val_wa=0]\n"
     ]
    },
    {
     "name": "stdout",
     "output_type": "stream",
     "text": [
      "3.1863523765846535\n",
      "Validation loss decreased (3.226126 --> 3.186352).  Saving model ...\n"
     ]
    },
    {
     "name": "stderr",
     "output_type": "stream",
     "text": [
      "Epoch: [8]/[13] Training: 100%|██████████| 12/12 [00:00<00:00, 16.99it/s, loss=3.34, train_ca=0, train_wa=0]   \n",
      "Validating: 100%|██████████| 3/3 [00:00<00:00, 27.64it/s, val_loss=2.88, val_ca=6.22, val_wa=0]\n"
     ]
    },
    {
     "name": "stdout",
     "output_type": "stream",
     "text": [
      "3.1486241102218626\n",
      "Validation loss decreased (3.186352 --> 3.148624).  Saving model ...\n"
     ]
    },
    {
     "name": "stderr",
     "output_type": "stream",
     "text": [
      "Epoch: [9]/[13] Training: 100%|██████████| 12/12 [00:00<00:00, 17.02it/s, loss=2.57, train_ca=0, train_wa=0]   \n",
      "Validating: 100%|██████████| 3/3 [00:00<00:00, 27.40it/s, val_loss=2.81, val_ca=13.3, val_wa=0]\n"
     ]
    },
    {
     "name": "stdout",
     "output_type": "stream",
     "text": [
      "3.114984534003518\n",
      "Validation loss decreased (3.148624 --> 3.114985).  Saving model ...\n"
     ]
    },
    {
     "name": "stderr",
     "output_type": "stream",
     "text": [
      "Epoch: [10]/[13] Training: 100%|██████████| 12/12 [00:00<00:00, 16.75it/s, loss=4.08, train_ca=7.14, train_wa=0]\n",
      "Validating: 100%|██████████| 3/3 [00:00<00:00, 27.88it/s, val_loss=2.85, val_ca=13.3, val_wa=0]\n"
     ]
    },
    {
     "name": "stdout",
     "output_type": "stream",
     "text": [
      "3.0879094931814404\n",
      "Validation loss decreased (3.114985 --> 3.087909).  Saving model ...\n"
     ]
    },
    {
     "name": "stderr",
     "output_type": "stream",
     "text": [
      "Epoch: [11]/[13] Training: 100%|██████████| 12/12 [00:00<00:00, 17.04it/s, loss=2.72, train_ca=10, train_wa=0]  \n",
      "Validating: 100%|██████████| 3/3 [00:00<00:00, 27.42it/s, val_loss=2.83, val_ca=11.1, val_wa=0]\n"
     ]
    },
    {
     "name": "stdout",
     "output_type": "stream",
     "text": [
      "3.0621501054519262\n",
      "Validation loss decreased (3.087909 --> 3.062150).  Saving model ...\n"
     ]
    }
   ],
   "source": [
    "alphabet = \"\"\"0123456789ABCDEFGHIJKLMNOPQRSTUVWXYZ\"\"\"\n",
    "args = {\n",
    "    'name':'exp1',\n",
    "    'path':'../data/LP-characters-resized-bw/',\n",
    "    'imgdir': 'train',\n",
    "    'imgH':32,\n",
    "    'nChannels':1,\n",
    "    'nHidden': 256,\n",
    "    'nClasses':len(alphabet),\n",
    "    'lr':0.001,\n",
    "    'epochs': 13,\n",
    "    'batch_size': 12,\n",
    "    'save_dir':'../checkpoints/',\n",
    "    'log_dir':'../logs',\n",
    "    'resume':False,\n",
    "    'cuda':True,\n",
    "    'schedule':False\n",
    "    \n",
    "}\n",
    "\n",
    "data = PlateDataset(args)\n",
    "args['collate_fn'] = SynthCollator()\n",
    "train_split = int(0.8*len(data))\n",
    "val_split = len(data) - train_split\n",
    "args['data_train'], args['data_val'] = random_split(data, (train_split, val_split))\n",
    "print('Traininig Data Size:{}\\nVal Data Size:{}'.format(\n",
    "    len(args['data_train']), len(args['data_val'])))\n",
    "args['alphabet'] = alphabet\n",
    "model = CRNN(args)\n",
    "args['criterion'] = CustomCTCLoss()\n",
    "savepath = os.path.join(args['save_dir'], args['name'])\n",
    "gmkdir(savepath)\n",
    "gmkdir(args['log_dir'])\n",
    "optimizer = torch.optim.Adam(model.parameters(), lr=args['lr'])\n",
    "learner = Learner(model, optimizer, savepath=savepath, resume=args['resume'])\n",
    "learner.fit(args)"
   ]
  },
  {
   "cell_type": "markdown",
   "metadata": {},
   "source": [
    "## Evaluation and testing"
   ]
  },
  {
   "cell_type": "code",
   "execution_count": 13,
   "metadata": {},
   "outputs": [],
   "source": [
    "import matplotlib.pyplot as plt\n",
    "from torchvision.utils import make_grid"
   ]
  },
  {
   "cell_type": "code",
   "execution_count": 14,
   "metadata": {},
   "outputs": [
    {
     "name": "stdout",
     "output_type": "stream",
     "text": [
      "torch.cuda.is_available() True\n"
     ]
    }
   ],
   "source": [
    "device = torch.device(\"cuda:0\" if torch.cuda.is_available() else \"cpu\")\n",
    "print(\"torch.cuda.is_available()\", torch.cuda.is_available())\n",
    "def get_accuracy(args):\n",
    "    loader = torch.utils.data.DataLoader(args['data'],\n",
    "                batch_size=args['batch_size'],\n",
    "                collate_fn=args['collate_fn'])\n",
    "    model = args['model']\n",
    "    model.eval()\n",
    "    converter = OCRLabelConverter(args['alphabet'])\n",
    "    evaluator = Eval()\n",
    "    labels, predictions, images = [], [], []\n",
    "    for iteration, batch in enumerate(tqdm(loader)):\n",
    "        input_, targets = batch['img'].to(device), batch['label']\n",
    "        print(\"Targets:\", targets)\n",
    "        images.extend(input_.squeeze().detach())\n",
    "        labels.extend(targets)\n",
    "        targets, lengths = converter.encode(targets)\n",
    "        logits = model(input_).transpose(1, 0)\n",
    "        logits = torch.nn.functional.log_softmax(logits, 2)\n",
    "        logits = logits.contiguous().cpu()\n",
    "        T, B, H = logits.size()\n",
    "        pred_sizes = torch.LongTensor([T for i in range(B)])\n",
    "        probs, pos = logits.max(2)\n",
    "        pos = pos.transpose(1, 0).contiguous().view(-1)\n",
    "        sim_preds = converter.decode(pos.data, pred_sizes.data, raw=False)\n",
    "        \n",
    "        # Debugging print\n",
    "        print(\"Ground Truth Labels:\", targets)\n",
    "        #print(\"Logits Shape:\", logits.size())\n",
    "        #print(\"Logits Values:\", logits)\n",
    "        #print(\"Predicted Positions:\", pos)\n",
    "        #print(\"Predicted Probabilities:\", probs)\n",
    "        #print(\"Predicted Sizes:\", pred_sizes)\n",
    "        print(\"Decoded Labels (before post-processing):\", sim_preds)\n",
    "        predictions.extend(sim_preds)\n",
    "        \n",
    "#     make_grid(images[:10], nrow=2)\n",
    "    fig=plt.figure(figsize=(8, 8))\n",
    "    columns = 4\n",
    "    rows = 5\n",
    "    pairs = list(zip(images, predictions))\n",
    "    indices = np.random.permutation(len(pairs))\n",
    "    for i in range(1, columns*rows +1):\n",
    "        img = images[indices[i]].cpu()\n",
    "        img = (img - img.min())/(img.max() - img.min())\n",
    "        img = np.array(img * 255.0, dtype=np.uint8)\n",
    "        fig.add_subplot(rows, columns, i)\n",
    "        plt.title(predictions[indices[i]])\n",
    "        plt.axis('off')\n",
    "        plt.imshow(img)\n",
    "    plt.show()\n",
    "    ca = np.mean((list(map(evaluator.char_accuracy, list(zip(predictions, labels))))))\n",
    "    wa = np.mean((list(map(evaluator.word_accuracy_line, list(zip(predictions, labels))))))\n",
    "    return ca, wa\n"
   ]
  },
  {
   "cell_type": "code",
   "execution_count": null,
   "metadata": {},
   "outputs": [],
   "source": []
  },
  {
   "cell_type": "code",
   "execution_count": 17,
   "metadata": {
    "scrolled": true
   },
   "outputs": [
    {
     "name": "stdout",
     "output_type": "stream",
     "text": [
      "Loading model ../checkpoints/exp1/best.ckpt\n"
     ]
    },
    {
     "name": "stderr",
     "output_type": "stream",
     "text": [
      "100%|██████████| 4/4 [00:00<00:00, 36.48it/s]\n"
     ]
    },
    {
     "name": "stdout",
     "output_type": "stream",
     "text": [
      "Targets: ['KA031351', 'TN74F3339', 'MH03BS7778', 'KL02AF6363', 'KA21M5519', 'KL16J3636', 'MH06A8929W', 'MH20EE7601', 'KA51AA3469', 'MH04DW8351', 'KL06H5834', 'GJ01MW7581']\n",
      "Ground Truth Labels: tensor([21, 11,  1,  4,  2,  4,  6,  2, 30, 24,  8,  5, 16,  4,  4,  4, 10, 23,\n",
      "        18,  1,  4, 12, 29,  8,  8,  8,  9, 21, 22,  1,  3, 11, 16,  7,  4,  7,\n",
      "         4, 21, 11,  3,  2, 23,  6,  6,  2, 10, 21, 22,  2,  7, 20,  4,  7,  4,\n",
      "         7, 23, 18,  1,  7, 11,  9, 10,  3, 10, 33, 23, 18,  3,  1, 15, 15,  8,\n",
      "         7,  1,  2, 21, 11,  6,  2, 11, 11,  4,  5,  7, 10, 23, 18,  1,  5, 14,\n",
      "        33,  9,  4,  6,  2, 21, 22,  1,  7, 18,  6,  9,  4,  5, 17, 20,  1,  2,\n",
      "        23, 33,  8,  6,  9,  2], dtype=torch.int32)\n",
      "Decoded Labels (before post-processing): ['MH2', 'MH2', 'MH2', 'MH2', 'MH2', 'MH2', 'MH2', 'MH2', 'MH2', 'MH2', 'MH2', 'MH2']\n",
      "Targets: ['TN52U1580', 'CL31VLGP', 'KL10AV6633', 'MH20B4Y546', 'DL7SBS6930', 'AK5600MH12', 'KL09AL9540', 'MH02CT2727', 'KL43B2344', 'AP02BP2454', 'TN59AQ1515', 'HR26CT4063']\n",
      "Ground Truth Labels: tensor([30, 24,  6,  3, 31,  2,  6,  9,  1, 13, 22,  4,  2, 32, 22, 17, 26, 21,\n",
      "        22,  2,  1, 11, 32,  7,  7,  4,  4, 23, 18,  3,  1, 12,  5, 35,  6,  5,\n",
      "         7, 14, 22,  8, 29, 12, 29,  7, 10,  4,  1, 11, 21,  6,  7,  1,  1, 23,\n",
      "        18,  2,  3, 21, 22,  1, 10, 11, 22, 10,  6,  5,  1, 23, 18,  1,  3, 13,\n",
      "        30,  3,  8,  3,  8, 21, 22,  5,  4, 12,  3,  4,  5,  5, 11, 26,  1,  3,\n",
      "        12, 26,  3,  5,  6,  5, 30, 24,  6, 10, 11, 27,  2,  6,  2,  6, 18, 28,\n",
      "         3,  7, 13, 30,  5,  1,  7,  4], dtype=torch.int32)\n",
      "Decoded Labels (before post-processing): ['MH12', 'MH12', 'MH12', 'MH12', 'MH12', 'MH12', 'MH2', 'MH12', 'MH2', 'MH2', 'MH12', 'MH12']\n",
      "Targets: ['KL10AW2111', 'HR26CM6005', 'KL10AV6342', '2HR6U7501', 'KL49H5270', 'HR26DK0830', 'KA01D0133', 'MH2OBN3525', 'MH20CS4946', 'TN45BA1065', 'KL53E964', 'MH14TCD204']\n",
      "Ground Truth Labels: tensor([21, 22,  2,  1, 11, 33,  3,  2,  2,  2, 18, 28,  3,  7, 13, 23,  7,  1,\n",
      "         1,  6, 21, 22,  2,  1, 11, 32,  7,  4,  5,  3,  3, 18, 28,  7, 31,  8,\n",
      "         6,  1,  2, 21, 22,  5, 10, 18,  6,  3,  8,  1, 18, 28,  3,  7, 14, 21,\n",
      "         1,  9,  4,  1, 21, 11,  1,  2, 14,  1,  2,  4,  4, 23, 18,  3, 25, 12,\n",
      "        24,  4,  6,  3,  6, 23, 18,  3,  1, 13, 29,  5, 10,  5,  7, 30, 24,  5,\n",
      "         6, 12, 11,  2,  1,  7,  6, 21, 22,  6,  4, 15, 10,  7,  5, 23, 18,  2,\n",
      "         5, 30, 13, 14,  3,  1,  5], dtype=torch.int32)\n",
      "Decoded Labels (before post-processing): ['MH2', 'MH2', 'MH2', 'MH2', 'MH2', 'MH2', 'MH2', 'MH2', 'MH2', 'MH2', 'MH2', 'MH2']\n",
      "Targets: ['TN07B5U472', 'MH20EE045', 'TN74A5L074', 'KA19TR0220102011', 'MH20CS1941', 'H20CS1938']\n",
      "Ground Truth Labels: tensor([30, 24,  1,  8, 12,  6, 31,  5,  8,  3, 23, 18,  3,  1, 15, 15,  1,  5,\n",
      "         6, 30, 24,  8,  5, 11,  6, 22,  1,  8,  5, 21, 11,  2, 10, 30, 28,  1,\n",
      "         3,  3,  1,  2,  1,  3,  1,  2,  2, 23, 18,  3,  1, 13, 29,  2, 10,  5,\n",
      "         2, 18,  3,  1, 13, 29,  2, 10,  4,  9], dtype=torch.int32)\n",
      "Decoded Labels (before post-processing): ['MH10', 'MH10', 'MH10', 'MH10', 'MH10', 'MH10']\n"
     ]
    },
    {
     "data": {
      "image/png": "[encoded data removed]",
      "text/plain": [
       "<Figure size 576x576 with 20 Axes>"
      ]
     },
     "metadata": {
      "needs_background": "light"
     },
     "output_type": "display_data"
    },
    {
     "name": "stdout",
     "output_type": "stream",
     "text": [
      "Character Accuracy: 13.51\n",
      "Word Accuracy: 0.00\n"
     ]
    }
   ],
   "source": [
    "args['imgdir'] = 'test'\n",
    "args['data'] = PlateDataset(args)\n",
    "resume_file = os.path.join(args['save_dir'], args['name'], 'best.ckpt')\n",
    "if os.path.isfile(resume_file):\n",
    "    print('Loading model %s'%resume_file)\n",
    "    checkpoint = torch.load(resume_file)\n",
    "    model.load_state_dict(checkpoint['state_dict'], strict=False)\n",
    "    args['model'] = model\n",
    "    ca, wa = get_accuracy(args)\n",
    "    print(\"Character Accuracy: %.2f\\nWord Accuracy: %.2f\"%(ca, wa))\n",
    "else:\n",
    "    print(\"=> no checkpoint found at '{}'\".format(os.path.join(args['save_dir'], args['name'])))\n",
    "    print('Exiting')"
   ]
  },
  {
   "cell_type": "code",
   "execution_count": null,
   "metadata": {},
   "outputs": [],
   "source": []
  },
  {
   "cell_type": "code",
   "execution_count": null,
   "metadata": {},
   "outputs": [],
   "source": []
  }
 ],
 "metadata": {
  "kernelspec": {
   "display_name": "a1_env",
   "language": "python",
   "name": "a1_env"
  },
  "language_info": {
   "codemirror_mode": {
    "name": "ipython",
    "version": 3
   },
   "file_extension": ".py",
   "mimetype": "text/x-python",
   "name": "python",
   "nbconvert_exporter": "python",
   "pygments_lexer": "ipython3",
   "version": "3.6.13"
  }
 },
 "nbformat": 4,
 "nbformat_minor": 4
}
